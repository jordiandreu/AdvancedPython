{
 "cells": [
  {
   "cell_type": "markdown",
   "metadata": {},
   "source": [
    "# Memory"
   ]
  },
  {
   "cell_type": "markdown",
   "metadata": {},
   "source": [
    "## Memory Profiling "
   ]
  },
  {
   "cell_type": "markdown",
   "metadata": {},
   "source": [
    "### Standard Lib"
   ]
  },
  {
   "cell_type": "code",
   "execution_count": 32,
   "metadata": {},
   "outputs": [],
   "source": [
    "import sys"
   ]
  },
  {
   "cell_type": "code",
   "execution_count": 33,
   "metadata": {},
   "outputs": [
    {
     "data": {
      "text/plain": [
       "28"
      ]
     },
     "execution_count": 33,
     "metadata": {},
     "output_type": "execute_result"
    }
   ],
   "source": [
    "sys.getsizeof(3)"
   ]
  },
  {
   "cell_type": "code",
   "execution_count": 34,
   "metadata": {},
   "outputs": [
    {
     "data": {
      "text/plain": [
       "24"
      ]
     },
     "execution_count": 34,
     "metadata": {},
     "output_type": "execute_result"
    }
   ],
   "source": [
    "sys.getsizeof(20.3)"
   ]
  },
  {
   "cell_type": "code",
   "execution_count": 35,
   "metadata": {},
   "outputs": [
    {
     "data": {
      "text/plain": [
       "487"
      ]
     },
     "execution_count": 35,
     "metadata": {},
     "output_type": "execute_result"
    }
   ],
   "source": [
    "sys.getrefcount(3)"
   ]
  },
  {
   "cell_type": "code",
   "execution_count": 36,
   "metadata": {},
   "outputs": [
    {
     "data": {
      "text/plain": [
       "10000000000000000000000000000000000000000000000000000000000000000000000000000000000000000000000000000000000000000000000000000000000000000000000000000000000000000000000000000000000000000000000000000000000000000000000000000000000000000000000000000000000000000000000000000000000000000000000000000000000000000000000000000000000000000000000000000000000000000000000000000000000000000000000000000000000000000000000000000000000000000000000000000000000000000000000000000000000000000000000000000000000000000000000000000000000000000000000000000000000000000000000000000000000000000000000000000000000000000000000000000000000000000000000000000000000000000000000000000000000000000000000000000000000000000000000000000000000000000000000000000000000000000000000000000000000000000000000000000000000000000000000000000000000000000000000000000000000000000000000000000000000000000000000000000000000000000000000000000000000000000000000000000000000000000000000000000000000000000000000000000000000000000000000000000000000000000"
      ]
     },
     "execution_count": 36,
     "metadata": {},
     "output_type": "execute_result"
    }
   ],
   "source": [
    "int('1' + '0'*1000)"
   ]
  },
  {
   "cell_type": "code",
   "execution_count": 37,
   "metadata": {},
   "outputs": [],
   "source": [
    "L = list(range(int(1e6)))"
   ]
  },
  {
   "cell_type": "code",
   "execution_count": 38,
   "metadata": {},
   "outputs": [
    {
     "data": {
      "text/plain": [
       "1000000"
      ]
     },
     "execution_count": 38,
     "metadata": {},
     "output_type": "execute_result"
    }
   ],
   "source": [
    "len(L)"
   ]
  },
  {
   "cell_type": "code",
   "execution_count": 39,
   "metadata": {},
   "outputs": [
    {
     "data": {
      "text/plain": [
       "9000112"
      ]
     },
     "execution_count": 39,
     "metadata": {},
     "output_type": "execute_result"
    }
   ],
   "source": [
    "sys.getsizeof(L)"
   ]
  },
  {
   "cell_type": "code",
   "execution_count": 40,
   "metadata": {},
   "outputs": [
    {
     "data": {
      "text/plain": [
       "64"
      ]
     },
     "execution_count": 40,
     "metadata": {},
     "output_type": "execute_result"
    }
   ],
   "source": [
    "sys.getsizeof([])"
   ]
  },
  {
   "cell_type": "code",
   "execution_count": 41,
   "metadata": {},
   "outputs": [
    {
     "data": {
      "text/plain": [
       "8.583175659179688"
      ]
     },
     "execution_count": 41,
     "metadata": {},
     "output_type": "execute_result"
    }
   ],
   "source": [
    "sys.getsizeof(L) / (1024**2)"
   ]
  },
  {
   "cell_type": "code",
   "execution_count": 42,
   "metadata": {},
   "outputs": [
    {
     "data": {
      "text/plain": [
       "28000000"
      ]
     },
     "execution_count": 42,
     "metadata": {},
     "output_type": "execute_result"
    }
   ],
   "source": [
    "int(1e6)* 28"
   ]
  },
  {
   "cell_type": "code",
   "execution_count": 43,
   "metadata": {},
   "outputs": [
    {
     "data": {
      "text/plain": [
       "27999996"
      ]
     },
     "execution_count": 43,
     "metadata": {},
     "output_type": "execute_result"
    }
   ],
   "source": [
    "sum(sys.getsizeof(x) for x in L)"
   ]
  },
  {
   "cell_type": "markdown",
   "metadata": {},
   "source": [
    "### Pympler"
   ]
  },
  {
   "cell_type": "raw",
   "metadata": {},
   "source": [
    "from pympler import tracker"
   ]
  },
  {
   "cell_type": "code",
   "execution_count": 44,
   "metadata": {},
   "outputs": [
    {
     "ename": "NameError",
     "evalue": "name 'tracker' is not defined",
     "output_type": "error",
     "traceback": [
      "\u001b[0;31m---------------------------------------------------------------------------\u001b[0m",
      "\u001b[0;31mNameError\u001b[0m                                 Traceback (most recent call last)",
      "\u001b[0;32m<ipython-input-44-64dcc9d08fb7>\u001b[0m in \u001b[0;36m<module>\u001b[0;34m\u001b[0m\n\u001b[0;32m----> 1\u001b[0;31m \u001b[0mm\u001b[0m \u001b[0;34m=\u001b[0m \u001b[0mtracker\u001b[0m\u001b[0;34m.\u001b[0m\u001b[0mSummaryTracker\u001b[0m\u001b[0;34m(\u001b[0m\u001b[0;34m)\u001b[0m\u001b[0;34m\u001b[0m\u001b[0;34m\u001b[0m\u001b[0m\n\u001b[0m",
      "\u001b[0;31mNameError\u001b[0m: name 'tracker' is not defined"
     ]
    }
   ],
   "source": [
    "m = tracker.SummaryTracker()"
   ]
  },
  {
   "cell_type": "code",
   "execution_count": 28,
   "metadata": {},
   "outputs": [
    {
     "ename": "NameError",
     "evalue": "name 'm' is not defined",
     "output_type": "error",
     "traceback": [
      "\u001b[0;31m---------------------------------------------------------------------------\u001b[0m",
      "\u001b[0;31mNameError\u001b[0m                                 Traceback (most recent call last)",
      "\u001b[0;32m<ipython-input-28-481508c89178>\u001b[0m in \u001b[0;36m<module>\u001b[0;34m\u001b[0m\n\u001b[0;32m----> 1\u001b[0;31m \u001b[0mm\u001b[0m\u001b[0;34m.\u001b[0m\u001b[0mprint_diff\u001b[0m\u001b[0;34m(\u001b[0m\u001b[0;34m)\u001b[0m\u001b[0;34m\u001b[0m\u001b[0;34m\u001b[0m\u001b[0m\n\u001b[0m",
      "\u001b[0;31mNameError\u001b[0m: name 'm' is not defined"
     ]
    }
   ],
   "source": [
    "m.print_diff()"
   ]
  },
  {
   "cell_type": "code",
   "execution_count": 29,
   "metadata": {},
   "outputs": [],
   "source": [
    "big = list(range(1_000_000))"
   ]
  },
  {
   "cell_type": "code",
   "execution_count": 30,
   "metadata": {},
   "outputs": [
    {
     "ename": "NameError",
     "evalue": "name 'm' is not defined",
     "output_type": "error",
     "traceback": [
      "\u001b[0;31m---------------------------------------------------------------------------\u001b[0m",
      "\u001b[0;31mNameError\u001b[0m                                 Traceback (most recent call last)",
      "\u001b[0;32m<ipython-input-30-481508c89178>\u001b[0m in \u001b[0;36m<module>\u001b[0;34m\u001b[0m\n\u001b[0;32m----> 1\u001b[0;31m \u001b[0mm\u001b[0m\u001b[0;34m.\u001b[0m\u001b[0mprint_diff\u001b[0m\u001b[0;34m(\u001b[0m\u001b[0;34m)\u001b[0m\u001b[0;34m\u001b[0m\u001b[0;34m\u001b[0m\u001b[0m\n\u001b[0m",
      "\u001b[0;31mNameError\u001b[0m: name 'm' is not defined"
     ]
    }
   ],
   "source": [
    "m.print_diff()"
   ]
  },
  {
   "cell_type": "code",
   "execution_count": null,
   "metadata": {},
   "outputs": [],
   "source": [
    "cd ../source/optimizing/"
   ]
  },
  {
   "cell_type": "code",
   "execution_count": null,
   "metadata": {},
   "outputs": [],
   "source": [
    "cd measuring/\n"
   ]
  },
  {
   "cell_type": "code",
   "execution_count": null,
   "metadata": {},
   "outputs": [],
   "source": [
    "# %load memory_size_pympler.py\n",
    "# file: memory_size_pympler.py\n",
    "\n",
    "\"\"\"Measure the size of used memory with a decorator.\n",
    "\"\"\"\n",
    "\n",
    "from __future__ import print_function\n",
    "\n",
    "import functools                                                #1\n",
    "import sys\n",
    "\n",
    "if sys.version_info.major < 3:\n",
    "    range = xrange\n",
    "\n",
    "from pympler import tracker                                     #2\n",
    "\n",
    "memory = {}                                                     #3\n",
    "\n",
    "\n",
    "def measure_memory(function):                                   #4\n",
    "    \"\"\"Decorator to measure memory size.\n",
    "    \"\"\"\n",
    "\n",
    "    @functools.wraps(function)                                  #5\n",
    "    def _measure_memory(*args, **kwargs):                       #6\n",
    "        \"\"\"This replaces the function that is to be measured.\n",
    "        \"\"\"\n",
    "        measurer = tracker.SummaryTracker()                     #\n",
    "        for _ in range(2):                                      #8\n",
    "            measurer.diff()                                     #9\n",
    "        try:\n",
    "            res = function(*args, **kwargs)                     #10\n",
    "            return res\n",
    "        finally:                                                #11\n",
    "            memory[function.__name__] = (measurer.diff())\n",
    "    return _measure_memory                                      #12\n",
    "\n",
    "\n",
    "if __name__ == '__main__':\n",
    "\n",
    "    @measure_memory                                             #13\n",
    "    def make_big(number):\n",
    "        \"\"\"Example function that makes a large list.\n",
    "        \"\"\"\n",
    "        return list(range(number))                              #14\n",
    "\n",
    "    make_big(int(1e6))                                          #15\n",
    "    print('used memory', memory)                                #16\n"
   ]
  },
  {
   "cell_type": "code",
   "execution_count": null,
   "metadata": {},
   "outputs": [],
   "source": [
    "# %load memory_growth_pympler.py\n",
    "# file memory_growth_pympler.py\n",
    "\n",
    "\"\"\"Measure the memory growth during a function call.\n",
    "\"\"\"\n",
    "from __future__ import print_function\n",
    "\n",
    "import sys\n",
    "\n",
    "if sys.version_info.major < 3:\n",
    "    range = xrange\n",
    "\n",
    "from pympler import tracker                                     #1\n",
    "\n",
    "\n",
    "def check_memory_growth(function, *args, **kwargs):             #2\n",
    "    \"\"\"Measure the memory usage of `function`.\n",
    "    \"\"\"\n",
    "    measurer = tracker.SummaryTracker()                         #3\n",
    "    for _ in range(2):                                          #4\n",
    "        measurer.diff()                                         #5\n",
    "    function(*args, **kwargs)                                   #6\n",
    "    return measurer.diff()                                      #7\n",
    "\n",
    "if __name__ == '__main__':\n",
    "\n",
    "    def test():\n",
    "        \"\"\"Do some tests with different memory usage patterns.\n",
    "        \"\"\"\n",
    "\n",
    "        def make_big(number):                                   #8\n",
    "            \"\"\"Function without side effects.\n",
    "\n",
    "            It cleans up all used memory after it returns.\n",
    "            \"\"\"\n",
    "            return list(range(number))\n",
    "\n",
    "        data = []                                               #9\n",
    "\n",
    "        def grow(number):\n",
    "            \"\"\"Function with side effects on global list.\n",
    "            \"\"\"\n",
    "            for x in range(number):\n",
    "                data.append(x)                                  #10\n",
    "\n",
    "        size = int(1e6)\n",
    "        print('memory make_big:', check_memory_growth(make_big,\n",
    "                                                      size))     #11\n",
    "        print('memory grow:', check_memory_growth(grow, size))   #12\n",
    "\n",
    "    test()\n"
   ]
  },
  {
   "cell_type": "code",
   "execution_count": null,
   "metadata": {},
   "outputs": [],
   "source": [
    "# %load pympler_list_growth.py\n",
    "# file: pympler_list_growth.py\n",
    "\n",
    "\"\"\"Measure the size of a list as it grows.\n",
    "\"\"\"\n",
    "from __future__ import print_function\n",
    "\n",
    "import sys\n",
    "\n",
    "from pympler.asizeof import asizeof, flatsize\n",
    "\n",
    "\n",
    "if sys.version_info.major < 3:\n",
    "    range = xrange\n",
    "\n",
    "\n",
    "def list_mem(length, size_func=flatsize):\n",
    "    \"\"\"Measure incremental memory increase of a growing list.\n",
    "    \"\"\"\n",
    "    my_list = []\n",
    "    mem = [size_func(my_list)]\n",
    "    for elem in range(length):\n",
    "        my_list.append(elem)\n",
    "        mem.append(size_func(my_list))\n",
    "    return mem\n",
    "\n",
    "\n",
    "if __name__ == '__main__':\n",
    "\n",
    "    def main():\n",
    "        \"\"\"Show plot or numbers.\n",
    "        \"\"\"\n",
    "        SIZE = 1000\n",
    "        SHOW = 20\n",
    "\n",
    "        for func in [flatsize, asizeof, sys.getsizeof]:\n",
    "            mem = list_mem(SIZE, size_func=func)\n",
    "            try:\n",
    "                from matplotlib import pylab\n",
    "                pylab.plot(mem)\n",
    "                pylab.show()\n",
    "            except ImportError:\n",
    "                print('matplotlib seems not be installed. Skipping the plot.')\n",
    "                if SIZE > SHOW:\n",
    "                    limit = SHOW // 2\n",
    "                    print(mem[:limit],\n",
    "                          '... skipping %d elements ...' % (SIZE - SHOW),\n",
    "                          end='')\n",
    "                    print(mem[-limit:])\n",
    "                else:\n",
    "                    print(mem)\n"
   ]
  },
  {
   "cell_type": "code",
   "execution_count": null,
   "metadata": {},
   "outputs": [],
   "source": [
    "%matplotlib inline"
   ]
  },
  {
   "cell_type": "code",
   "execution_count": null,
   "metadata": {},
   "outputs": [],
   "source": [
    "main()"
   ]
  },
  {
   "cell_type": "code",
   "execution_count": null,
   "metadata": {},
   "outputs": [],
   "source": [
    "# %load list_alloc_steps.py\n",
    "# file: list_alloc_steps.py\n",
    "\n",
    "\"\"\"Measure the number of memory allocation steps for a list.\n",
    "\"\"\"\n",
    "from __future__ import print_function\n",
    "\n",
    "import sys\n",
    "\n",
    "if sys.version_info.major < 3:\n",
    "    range = xrange\n",
    "\n",
    "from pympler.asizeof import flatsize\n",
    "\n",
    "\n",
    "def list_steps(lenght, size_func=sys.getsizeof):\n",
    "    \"\"\"Measure the number of memory alloaction steps for a list.\n",
    "    \"\"\"\n",
    "    my_list = []\n",
    "    steps = 0\n",
    "    int_size = size_func(int())\n",
    "    old_size = size_func(my_list)\n",
    "    for elem in range(lenght):\n",
    "        my_list.append(elem)\n",
    "        new_size = sys.getsizeof(my_list)\n",
    "        if new_size - old_size > int_size:\n",
    "            steps += 1\n",
    "        old_size = new_size\n",
    "    return steps\n",
    "\n",
    "\n",
    "if __name__ == '__main__':\n",
    "    steps = [10, 100, 1000, 10000, int(1e5), int(1e6), int(1e7)]\n",
    "    print('Using sys.getsizeof:')\n",
    "    for size in steps:\n",
    "        print('%10d: %3d' % (size, list_steps(size)))\n",
    "    print('Using pympler.asizeof.flatsize:')\n",
    "    for size in steps:\n",
    "        print('%10d: %3d' % (size, list_steps(size, flatsize)))\n"
   ]
  },
  {
   "cell_type": "markdown",
   "metadata": {},
   "source": [
    "#### Run this from command line"
   ]
  },
  {
   "cell_type": "raw",
   "metadata": {},
   "source": [
    "# %load use_mem.py\n",
    "# file: use_mem.py\n",
    "\n",
    "import random\n",
    "import sys\n",
    "\n",
    "# Make it work with Python 2 and Python 3.\n",
    "if sys.version_info.major < 3:\n",
    "    range = xrange\n",
    "\n",
    "\n",
    "@profile\n",
    "def use_mem(numbers):\n",
    "    \"\"\"Different ways to use up memory.\n",
    "    \"\"\"\n",
    "    a = sum([x * x for x in numbers])\n",
    "    b = sum(x * x for x in numbers)\n",
    "    c = sum(x * x for x in numbers)\n",
    "    squares = [x * x for x in numbers]\n",
    "    d = sum(squares)\n",
    "    del squares\n",
    "    x = 'a' * int(1e6)\n",
    "    del x\n",
    "    return 42\n",
    "\n",
    "\n",
    "if __name__ == '__main__':\n",
    "\n",
    "    numbers = [random.random() for x in range(int(1e6))]\n",
    "    use_mem(numbers)"
   ]
  },
  {
   "cell_type": "markdown",
   "metadata": {},
   "source": [
    "`Weird results in mac (Increments), due to memory compression algorithms`"
   ]
  },
  {
   "cell_type": "raw",
   "metadata": {},
   "source": [
    "(py37env) jordi@wiptg079 source $ python -m memory_profiler optimizing/measuring/use_mem.py \n",
    "Filename: optimizing/measuring/use_mem.py\n",
    "\n",
    "Line #    Mem usage    Increment   Line Contents\n",
    "================================================\n",
    "    11   55.988 MiB   55.988 MiB   @profile\n",
    "    12                             def use_mem(numbers):\n",
    "    13                                 \"\"\"Different ways to use up memory.\n",
    "    14                                 \"\"\"\n",
    "    15   87.602 MiB -77997.449 MiB       a = sum([x * x for x in numbers])\n",
    "    16   66.598 MiB  -21.004 MiB       b = sum(x * x for x in numbers)\n",
    "    17   66.598 MiB    0.000 MiB       c = sum(x * x for x in numbers)\n",
    "    18   87.293 MiB -130843.344 MiB       squares = [x * x for x in numbers]\n",
    "    19   93.840 MiB    6.547 MiB       d = sum(squares)\n",
    "    20   66.848 MiB  -26.992 MiB       del squares\n",
    "    21   67.805 MiB    0.957 MiB       x = 'a' * int(1e6)\n",
    "    22   67.555 MiB   -0.250 MiB       del x\n",
    "    23   67.555 MiB    0.000 MiB       return 42"
   ]
  },
  {
   "cell_type": "markdown",
   "metadata": {},
   "source": [
    "### Exercice 4.1.4"
   ]
  },
  {
   "cell_type": "code",
   "execution_count": null,
   "metadata": {},
   "outputs": [],
   "source": [
    "m = tracker.SummaryTracker()"
   ]
  },
  {
   "cell_type": "code",
   "execution_count": null,
   "metadata": {},
   "outputs": [],
   "source": [
    "m.print_diff()"
   ]
  },
  {
   "cell_type": "code",
   "execution_count": null,
   "metadata": {},
   "outputs": [],
   "source": [
    "# %load make_list_gen.py\n",
    "#file: make_list_gen.py\n",
    "\n",
    "from __future__ import print_function\n",
    "\n",
    "import sys\n",
    "import time\n",
    "\n",
    "if sys.version_info.major < 3:\n",
    "    range = xrange\n",
    "\n",
    "\n",
    "def make_list(n):\n",
    "    return [x * 10 for x in range(n)]\n",
    "\n",
    "\n",
    "def make_gen(n):\n",
    "    return (x * 10 for x in range(n))\n",
    "\n",
    "\n",
    "def test():\n",
    "    n = int(1e4)  # 1e5, 1e6, 1e7, 1e8\n",
    "    list_ = make_list(n)\n",
    "    del list_\n",
    "    gen = make_gen(n)\n",
    "    del gen\n",
    "    time.sleep(1)\n",
    "\n",
    "test()\n"
   ]
  },
  {
   "cell_type": "code",
   "execution_count": null,
   "metadata": {},
   "outputs": [],
   "source": [
    "m.print_diff()"
   ]
  },
  {
   "cell_type": "code",
   "execution_count": null,
   "metadata": {},
   "outputs": [],
   "source": [
    "# %load make_list_gen.py\n",
    "#file: make_list_gen.py\n",
    "\n",
    "from __future__ import print_function\n",
    "\n",
    "import sys\n",
    "import time\n",
    "\n",
    "if sys.version_info.major < 3:\n",
    "    range = xrange\n",
    "\n",
    "def make_list(n):\n",
    "    return [x * 10 for x in range(n)]\n",
    "\n",
    "def make_gen(n):\n",
    "    return (x * 10 for x in range(n))\n",
    "\n",
    "\n",
    "def test():\n",
    "    n = int(1e4)  # 1e4, 1e5, 1e6, 1e7, 1e8\n",
    "    list_ = make_list(n)\n",
    "    del list_\n",
    "    gen = make_gen(n)\n",
    "    del gen\n",
    "    time.sleep(1)\n",
    "\n",
    "#for x in [1e4]: \n",
    "#    test(x)\n",
    "test()"
   ]
  },
  {
   "cell_type": "code",
   "execution_count": null,
   "metadata": {},
   "outputs": [],
   "source": [
    "mem_list = measure_memory(make_list)"
   ]
  },
  {
   "cell_type": "code",
   "execution_count": null,
   "metadata": {},
   "outputs": [],
   "source": [
    "mem_gen = measure_memory(make_gen)"
   ]
  },
  {
   "cell_type": "code",
   "execution_count": null,
   "metadata": {},
   "outputs": [],
   "source": [
    "n = 10"
   ]
  },
  {
   "cell_type": "code",
   "execution_count": null,
   "metadata": {},
   "outputs": [],
   "source": [
    "memory"
   ]
  },
  {
   "cell_type": "code",
   "execution_count": null,
   "metadata": {},
   "outputs": [],
   "source": [
    "mem_list(n)"
   ]
  },
  {
   "cell_type": "code",
   "execution_count": null,
   "metadata": {},
   "outputs": [],
   "source": [
    "mem_gen(n);"
   ]
  },
  {
   "cell_type": "code",
   "execution_count": 14,
   "metadata": {},
   "outputs": [
    {
     "ename": "NameError",
     "evalue": "name 'memory' is not defined",
     "output_type": "error",
     "traceback": [
      "\u001b[0;31m---------------------------------------------------------------------------\u001b[0m",
      "\u001b[0;31mNameError\u001b[0m                                 Traceback (most recent call last)",
      "\u001b[0;32m<ipython-input-14-5ac62a1d2863>\u001b[0m in \u001b[0;36m<module>\u001b[0;34m\u001b[0m\n\u001b[0;32m----> 1\u001b[0;31m \u001b[0mmemory\u001b[0m\u001b[0;34m\u001b[0m\u001b[0;34m\u001b[0m\u001b[0m\n\u001b[0m",
      "\u001b[0;31mNameError\u001b[0m: name 'memory' is not defined"
     ]
    }
   ],
   "source": [
    "memory"
   ]
  },
  {
   "cell_type": "markdown",
   "metadata": {},
   "source": [
    "## Weak references"
   ]
  },
  {
   "cell_type": "code",
   "execution_count": 2,
   "metadata": {},
   "outputs": [
    {
     "name": "stdout",
     "output_type": "stream",
     "text": [
      "/Volumes/HDD-Data/PycharmProjects/AdvancedPython/source/optimizing/weakref\n"
     ]
    }
   ],
   "source": [
    "cd ../source/optimizing/weakref/"
   ]
  },
  {
   "cell_type": "code",
   "execution_count": 4,
   "metadata": {},
   "outputs": [
    {
     "name": "stdout",
     "output_type": "stream",
     "text": [
      "List: [1, 2, 3]\n",
      "Weak reference count: 0\n",
      "Creating a weak reference.\n",
      "Weak reference count: 1\n",
      "Calling the weakref object [1, 2, 3]\n",
      "Deleting the original list.\n",
      "Weak reference count: None\n"
     ]
    }
   ],
   "source": [
    "# %load weakref_list.py\n",
    "\"\"\"Create a weak reference with a list.\n",
    "\"\"\"\n",
    "\n",
    "import weakref\n",
    "\n",
    "\n",
    "class MyList(list):\n",
    "    \"\"\"My list is just inherits from `list`.\n",
    "    Need this because built-in list does not work with weak refs.\n",
    "    \"\"\"\n",
    "    pass\n",
    "\n",
    "\n",
    "def test():\n",
    "    \"\"\"Simple test.\n",
    "    \"\"\"\n",
    "    my_list = MyList([1, 2, 3])\n",
    "\n",
    "    print('List:', my_list)\n",
    "    print('Weak reference count:', weakref.getweakrefcount(my_list))\n",
    "    weak_list = weakref.ref(my_list)\n",
    "    print('Creating a weak reference.')\n",
    "    print('Weak reference count:', weakref.getweakrefcount(my_list))\n",
    "    print('Calling the weakref object', weak_list())\n",
    "    print('Deleting the original list.')\n",
    "    del my_list\n",
    "    print('Weak reference count:', weak_list())\n",
    "\n",
    "\n",
    "if __name__ == '__main__':\n",
    "\n",
    "    test()\n"
   ]
  },
  {
   "cell_type": "code",
   "execution_count": 10,
   "metadata": {},
   "outputs": [
    {
     "name": "stdout",
     "output_type": "stream",
     "text": [
      "First instance\n",
      "===============\n",
      "object id: 4344152416\n",
      "Is retrieved object my object?: True\n",
      "Show weak value dict: {4344152416: <__main__.MyClass object at 0x102ee8160>}\n",
      "delete instance\n",
      "Show weak value dict: {}\n",
      "\n",
      "Second instance\n",
      "===============\n",
      "object id: 4344152864\n",
      "Is retrieved object my object?: True\n",
      "Show weak value dict: {4344152864: <__main__.MyClass object at 0x102ee8320>}\n",
      "delete instance\n",
      "Show weak value dict: {}\n"
     ]
    }
   ],
   "source": [
    "# %load weak_value_dict.py\n",
    "\"\"\"Example of WeakValueDictionary for id to object translation.\n",
    "\n",
    "Inspired by the Python documentation:\n",
    "https://docs.python.org/3/library/weakref.html?highlight=weakref#example\n",
    "\"\"\"\n",
    "\n",
    "import weakref\n",
    "\n",
    "\n",
    "class IDStore:\n",
    "    \"\"\"Storage of objects by ID.\n",
    "    \"\"\"\n",
    "\n",
    "    def __init__(self):\n",
    "        self._id2obj_dict = weakref.WeakValueDictionary()\n",
    "\n",
    "\n",
    "    def remember(self, obj):\n",
    "        \"\"\"Remember the object in a weak value dictionary.\n",
    "        \"\"\"\n",
    "        oid = id(obj)\n",
    "        self._id2obj_dict[oid] = obj\n",
    "        return oid\n",
    "\n",
    "\n",
    "    def id2obj(self, oid):\n",
    "        \"\"\"Retrieve the object by its id.\n",
    "        \"\"\"\n",
    "        return self._id2obj_dict[oid]\n",
    "\n",
    "\n",
    "class MyClass:\n",
    "    \"\"\"Simple example class.\n",
    "    \"\"\"\n",
    "    pass\n",
    "\n",
    "def test():\n",
    "    \"\"\"Simple test.\n",
    "\n",
    "    Shows that class instance disappears from dictionary when deleted\n",
    "    but not explicitly removed from the weak value dictionary used to\n",
    "    store the object.\n",
    "    \"\"\"\n",
    "\n",
    "    id_store = IDStore()\n",
    "\n",
    "    print('First instance')\n",
    "    print('===============')\n",
    "    my_inst = MyClass()\n",
    "    print('object id:', id_store.remember(my_inst))\n",
    "    print('Is retrieved object my object?:',\n",
    "          id_store.id2obj(id(my_inst)) is my_inst)\n",
    "    print('Show weak value dict:', dict(id_store._id2obj_dict))\n",
    "    print('delete instance')\n",
    "    del my_inst\n",
    "    print('Show weak value dict:', dict(id_store._id2obj_dict))\n",
    "\n",
    "    print()\n",
    "    print('Second instance')\n",
    "    print('===============')\n",
    "    my_inst = MyClass()  # catch freed id to avoid the same id in store\n",
    "    my_inst = MyClass()\n",
    "    print('object id:', id_store.remember(my_inst))\n",
    "    print('Is retrieved object my object?:',\n",
    "          id_store.id2obj(id(my_inst)) is my_inst)\n",
    "    print('Show weak value dict:', dict(id_store._id2obj_dict))\n",
    "    print('delete instance')\n",
    "    del my_inst\n",
    "    print('Show weak value dict:', dict(id_store._id2obj_dict))\n",
    "\n",
    "\n",
    "if __name__ == '__main__':\n",
    "\n",
    "    test()\n"
   ]
  },
  {
   "cell_type": "code",
   "execution_count": 12,
   "metadata": {},
   "outputs": [
    {
     "name": "stdout",
     "output_type": "stream",
     "text": [
      "works for <class '__main__.MyClass'>\n",
      "works for <class 'set'>\n",
      "works for <class 'frozenset'>\n",
      "works for <class 'module'>\n",
      "doesn't work for <class 'collections.defaultdict'>\n",
      "doesn't work for <class 'list'>\n",
      "doesn't work for <class 'dict'>\n",
      "doesn't work for <class 'tuple'>\n",
      "doesn't work for <class 'str'>\n",
      "doesn't work for <class 'int'>\n",
      "doesn't work for <class 'float'>\n",
      "doesn't work for <class 'object'>\n",
      "doesn't work for <class 'range'>\n",
      "doesn't work for <class 'zip'>\n"
     ]
    }
   ],
   "source": [
    "# %load supported_objects.py\n",
    "\"\"\"Simple test for weakly reference-able objects.\n",
    "\"\"\"\n",
    "\n",
    "from collections import defaultdict\n",
    "import weakref\n",
    "import sys\n",
    "\n",
    "class MyClass:\n",
    "    \"\"\"Empty class.\n",
    "    \"\"\"\n",
    "    pass\n",
    "\n",
    "\n",
    "def test(objects):\n",
    "    \"\"\"Show if objects can be weakly referenced.\n",
    "    \"\"\"\n",
    "    for obj in objects:\n",
    "        try:\n",
    "            weakref.ref(obj)\n",
    "            print('works for', type(obj))\n",
    "        except TypeError:\n",
    "            print(\"doesn't work for\", type(obj))\n",
    "\n",
    "if __name__ == '__main__':\n",
    "\n",
    "    objects = [MyClass(), set(), frozenset(), sys, defaultdict(), [], {}, (),\n",
    "               'a', 2, 3.5,  object(), range(10), zip()]\n",
    "    test(objects)"
   ]
  },
  {
   "cell_type": "markdown",
   "metadata": {},
   "source": [
    "### Exercice 4.2.4 "
   ]
  },
  {
   "cell_type": "code",
   "execution_count": 31,
   "metadata": {},
   "outputs": [
    {
     "name": "stdout",
     "output_type": "stream",
     "text": [
      "{<__main__.MyClass object at 0x102ee8d68>: 1, <__main__.MyClass object at 0x102ee8cf8>: 2}\n",
      "{<__main__.MyClass object at 0x102ee8cf8>: 2}\n"
     ]
    }
   ],
   "source": [
    "import weakref\n",
    "\n",
    "class MyClass(object):\n",
    "    pass\n",
    "\n",
    "wd = weakref.WeakKeyDictionary()\n",
    "\n",
    "my_inst1 = MyClass()\n",
    "my_inst2 = MyClass()\n",
    "wd[my_inst1] = 1\n",
    "wd[my_inst2] = 2\n",
    "print(dict(wd))\n",
    "del my_inst1\n",
    "print(dict(wd))"
   ]
  },
  {
   "cell_type": "code",
   "execution_count": null,
   "metadata": {},
   "outputs": [],
   "source": []
  }
 ],
 "metadata": {
  "kernelspec": {
   "display_name": "Python 3",
   "language": "python",
   "name": "python3"
  },
  "language_info": {
   "codemirror_mode": {
    "name": "ipython",
    "version": 3
   },
   "file_extension": ".py",
   "mimetype": "text/x-python",
   "name": "python",
   "nbconvert_exporter": "python",
   "pygments_lexer": "ipython3",
   "version": "3.7.1"
  }
 },
 "nbformat": 4,
 "nbformat_minor": 2
}
