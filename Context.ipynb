{
 "cells": [
  {
   "cell_type": "markdown",
   "metadata": {},
   "source": [
    "# Context Managers"
   ]
  },
  {
   "cell_type": "code",
   "execution_count": 1,
   "metadata": {},
   "outputs": [
    {
     "name": "stdout",
     "output_type": "stream",
     "text": [
      "False\n",
      "True\n"
     ]
    }
   ],
   "source": [
    "with open('data.txt', 'w') as fobj:\n",
    "    print(fobj.closed)\n",
    "print(fobj.closed)"
   ]
  },
  {
   "cell_type": "code",
   "execution_count": 2,
   "metadata": {},
   "outputs": [],
   "source": [
    "class MyContext:\n",
    "    \n",
    "    def __enter__(self):\n",
    "        print('before')\n",
    "        return 42\n",
    "    \n",
    "    # signature: exception type and value, and traceback\n",
    "    def __exit__(self, ex_t, ex_v, tb):\n",
    "        print('after')\n",
    "        print(ex_t, ex_v, tb)"
   ]
  },
  {
   "cell_type": "code",
   "execution_count": 3,
   "metadata": {},
   "outputs": [
    {
     "name": "stdout",
     "output_type": "stream",
     "text": [
      "before\n",
      "doing something with  42\n",
      "after\n",
      "None None None\n"
     ]
    }
   ],
   "source": [
    "with MyContext() as context_obj:\n",
    "    print('doing something with ', context_obj)"
   ]
  },
  {
   "cell_type": "code",
   "execution_count": 4,
   "metadata": {},
   "outputs": [
    {
     "name": "stdout",
     "output_type": "stream",
     "text": [
      "before\n",
      "doing something with  42\n",
      "after\n",
      "<class 'ZeroDivisionError'> division by zero <traceback object at 0x10fba5e48>\n"
     ]
    },
    {
     "ename": "ZeroDivisionError",
     "evalue": "division by zero",
     "output_type": "error",
     "traceback": [
      "\u001b[0;31m---------------------------------------------------------------------------\u001b[0m",
      "\u001b[0;31mZeroDivisionError\u001b[0m                         Traceback (most recent call last)",
      "\u001b[0;32m<ipython-input-4-e9b23281eb46>\u001b[0m in \u001b[0;36m<module>\u001b[0;34m\u001b[0m\n\u001b[1;32m      1\u001b[0m \u001b[0;32mwith\u001b[0m \u001b[0mMyContext\u001b[0m\u001b[0;34m(\u001b[0m\u001b[0;34m)\u001b[0m \u001b[0;32mas\u001b[0m \u001b[0mcontext_obj\u001b[0m\u001b[0;34m:\u001b[0m\u001b[0;34m\u001b[0m\u001b[0;34m\u001b[0m\u001b[0m\n\u001b[1;32m      2\u001b[0m     \u001b[0mprint\u001b[0m\u001b[0;34m(\u001b[0m\u001b[0;34m'doing something with '\u001b[0m\u001b[0;34m,\u001b[0m \u001b[0mcontext_obj\u001b[0m\u001b[0;34m)\u001b[0m\u001b[0;34m\u001b[0m\u001b[0;34m\u001b[0m\u001b[0m\n\u001b[0;32m----> 3\u001b[0;31m     \u001b[0;36m1\u001b[0m\u001b[0;34m/\u001b[0m\u001b[0;36m0\u001b[0m\u001b[0;34m\u001b[0m\u001b[0;34m\u001b[0m\u001b[0m\n\u001b[0m\u001b[1;32m      4\u001b[0m     \u001b[0mprint\u001b[0m\u001b[0;34m(\u001b[0m\u001b[0;34m'after exception'\u001b[0m\u001b[0;34m)\u001b[0m\u001b[0;34m\u001b[0m\u001b[0;34m\u001b[0m\u001b[0m\n",
      "\u001b[0;31mZeroDivisionError\u001b[0m: division by zero"
     ]
    }
   ],
   "source": [
    "with MyContext() as context_obj:\n",
    "    print('doing something with ', context_obj)\n",
    "    1/0\n",
    "    print('after exception')"
   ]
  },
  {
   "cell_type": "code",
   "execution_count": 5,
   "metadata": {},
   "outputs": [],
   "source": [
    "class MyContext2:\n",
    "    \n",
    "    def __enter__(self):\n",
    "        print('before')\n",
    "        return 42\n",
    "    \n",
    "    # signature: exception type and value, and traceback\n",
    "    def __exit__(self, ex_t, ex_v, tb):\n",
    "        print('after')\n",
    "        print(ex_t, ex_v, tb)\n",
    "        return True"
   ]
  },
  {
   "cell_type": "code",
   "execution_count": 7,
   "metadata": {},
   "outputs": [
    {
     "name": "stdout",
     "output_type": "stream",
     "text": [
      "before\n",
      "doing something with  42\n",
      "after\n",
      "<class 'ZeroDivisionError'> division by zero <traceback object at 0x10fb81f48>\n"
     ]
    }
   ],
   "source": [
    "with MyContext2() as context_obj:\n",
    "    print('doing something with ', context_obj)\n",
    "    1/0\n",
    "    print('after exception')"
   ]
  },
  {
   "cell_type": "markdown",
   "metadata": {},
   "source": [
    "## Contextlib"
   ]
  },
  {
   "cell_type": "code",
   "execution_count": 8,
   "metadata": {},
   "outputs": [],
   "source": [
    "import contextlib"
   ]
  },
  {
   "cell_type": "code",
   "execution_count": 9,
   "metadata": {},
   "outputs": [],
   "source": [
    "@contextlib.contextmanager\n",
    "def mycontext():\n",
    "    print('before')\n",
    "    try:\n",
    "        yield 42\n",
    "    finally:\n",
    "        print('after')"
   ]
  },
  {
   "cell_type": "code",
   "execution_count": 10,
   "metadata": {},
   "outputs": [
    {
     "name": "stdout",
     "output_type": "stream",
     "text": [
      "before\n",
      "doing things\n",
      "after\n"
     ]
    }
   ],
   "source": [
    "with mycontext() as ctx:\n",
    "    print('doing things')"
   ]
  },
  {
   "cell_type": "markdown",
   "metadata": {},
   "source": [
    "### examples"
   ]
  },
  {
   "cell_type": "code",
   "execution_count": 11,
   "metadata": {},
   "outputs": [],
   "source": [
    "class Test:\n",
    "    \n",
    "    def close(self):\n",
    "        print('closing')"
   ]
  },
  {
   "cell_type": "code",
   "execution_count": 12,
   "metadata": {},
   "outputs": [
    {
     "name": "stdout",
     "output_type": "stream",
     "text": [
      "working with <__main__.Test object at 0x10fc2e1d0>\n",
      "closing\n"
     ]
    }
   ],
   "source": [
    "with contextlib.closing(Test()) as ctx:\n",
    "    print('working with', ctx)"
   ]
  },
  {
   "cell_type": "code",
   "execution_count": 13,
   "metadata": {},
   "outputs": [
    {
     "data": {
      "text/plain": [
       "\u001b[0;31mInit signature:\u001b[0m \u001b[0mcontextlib\u001b[0m\u001b[0;34m.\u001b[0m\u001b[0mExitStack\u001b[0m\u001b[0;34m(\u001b[0m\u001b[0;34m)\u001b[0m\u001b[0;34m\u001b[0m\u001b[0;34m\u001b[0m\u001b[0m\n",
       "\u001b[0;31mDocstring:\u001b[0m     \n",
       "Context manager for dynamic management of a stack of exit callbacks.\n",
       "\n",
       "For example:\n",
       "    with ExitStack() as stack:\n",
       "        files = [stack.enter_context(open(fname)) for fname in filenames]\n",
       "        # All opened files will automatically be closed at the end of\n",
       "        # the with statement, even if attempts to open files later\n",
       "        # in the list raise an exception.\n",
       "\u001b[0;31mFile:\u001b[0m           ~/miniconda3/envs/py37env/lib/python3.7/contextlib.py\n",
       "\u001b[0;31mType:\u001b[0m           ABCMeta\n"
      ]
     },
     "metadata": {},
     "output_type": "display_data"
    }
   ],
   "source": [
    "# More interesting methods\n",
    "contextlib.ExitStack?"
   ]
  },
  {
   "cell_type": "code",
   "execution_count": 22,
   "metadata": {},
   "outputs": [],
   "source": [
    "with open('total.txt', 'w') as fobj_out:\n",
    "    with open('file1.txt') as fobj_in_1:\n",
    "        with open('file2.txt') as fobj_in_2:\n",
    "            fobj_out.write(fobj_in_1.read())\n",
    "            fobj_out.write(fobj_in_2.read())"
   ]
  },
  {
   "cell_type": "code",
   "execution_count": 23,
   "metadata": {},
   "outputs": [
    {
     "data": {
      "text/plain": [
       "file1\n",
       "file2\n"
      ]
     },
     "metadata": {},
     "output_type": "display_data"
    }
   ],
   "source": [
    "%less total.txt"
   ]
  },
  {
   "cell_type": "code",
   "execution_count": 25,
   "metadata": {},
   "outputs": [],
   "source": [
    "with open('total.txt', 'w') as fobj_out, open('file1.txt') as fobj_in_1, open('file2.txt') as fobj_in_2:\n",
    "    fobj_out.write(fobj_in_1.read())\n",
    "    fobj_out.write(fobj_in_2.read())"
   ]
  },
  {
   "cell_type": "code",
   "execution_count": 26,
   "metadata": {},
   "outputs": [
    {
     "data": {
      "text/plain": [
       "file1\n",
       "file2\n"
      ]
     },
     "metadata": {},
     "output_type": "display_data"
    }
   ],
   "source": [
    "%less total.txt"
   ]
  },
  {
   "cell_type": "code",
   "execution_count": 27,
   "metadata": {},
   "outputs": [
    {
     "ename": "SyntaxError",
     "evalue": "invalid syntax (<ipython-input-27-1ec30ad9ea42>, line 1)",
     "output_type": "error",
     "traceback": [
      "\u001b[0;36m  File \u001b[0;32m\"<ipython-input-27-1ec30ad9ea42>\"\u001b[0;36m, line \u001b[0;32m1\u001b[0m\n\u001b[0;31m    with (open('total.txt', 'w') as fobj_out,\u001b[0m\n\u001b[0m                                  ^\u001b[0m\n\u001b[0;31mSyntaxError\u001b[0m\u001b[0;31m:\u001b[0m invalid syntax\n"
     ]
    }
   ],
   "source": [
    "with (open('total.txt', 'w') as fobj_out,\n",
    "      open('file1.txt') as fobj_in_1,\n",
    "      open('file2.txt') as fobj_in_2):\n",
    "    fobj_out.write(fobj_in_1.read())\n",
    "    fobj_out.write(fobj_in_2.read())"
   ]
  },
  {
   "cell_type": "markdown",
   "metadata": {},
   "source": [
    "### Exercice 5.5.1"
   ]
  },
  {
   "cell_type": "code",
   "execution_count": 41,
   "metadata": {},
   "outputs": [],
   "source": [
    "import sys\n",
    "\n",
    "class MyContext:\n",
    "    \n",
    "    def __enter__(self):\n",
    "        self.fobj = open('stdout.txt', 'w')\n",
    "        self._stdout = sys.stdout\n",
    "        sys.stdout = self.fobj\n",
    "    \n",
    "    # signature: exception type and value, and traceback\n",
    "    def __exit__(self, ex_t, ex_v, tb):\n",
    "        sys.stdout = self._stdout\n",
    "        self.fobj.close()\n",
    "        \n",
    "with MyContext() as ctx:\n",
    "    print('inside the file')\n",
    "print('in command line')"
   ]
  },
  {
   "cell_type": "code",
   "execution_count": 42,
   "metadata": {},
   "outputs": [
    {
     "name": "stdin",
     "output_type": "stream",
     "text": [
      "File `ex551.py` exists. Overwrite (y/[N])?   y\n"
     ]
    }
   ],
   "source": [
    "%save ex551.py 41"
   ]
  },
  {
   "cell_type": "markdown",
   "metadata": {},
   "source": [
    "### Exercice 5.5.2"
   ]
  },
  {
   "cell_type": "code",
   "execution_count": 70,
   "metadata": {},
   "outputs": [],
   "source": [
    "import sys\n",
    "import contextlib\n",
    "\n",
    "@contextlib.contextmanager\n",
    "def mycontext():\n",
    "    \n",
    "    try:\n",
    "        fobj = open('stdout.txt', 'w')\n",
    "        stdout = sys.stdout\n",
    "        sys.stdout = fobj\n",
    "        yield\n",
    "    \n",
    "    finally:\n",
    "        sys.stdout = stdout\n",
    "        fobj.close()\n",
    "        \n",
    "with mycontext() as ctx:\n",
    "    print('inside the file')\n",
    "print('in command line')"
   ]
  },
  {
   "cell_type": "code",
   "execution_count": 71,
   "metadata": {},
   "outputs": [
    {
     "name": "stdin",
     "output_type": "stream",
     "text": [
      "File `ex552.py` exists. Overwrite (y/[N])?   y\n"
     ]
    }
   ],
   "source": [
    "%save ex552.py 70"
   ]
  },
  {
   "cell_type": "markdown",
   "metadata": {},
   "source": [
    "### Exercice 5.5.3"
   ]
  },
  {
   "cell_type": "code",
   "execution_count": 72,
   "metadata": {},
   "outputs": [],
   "source": [
    "%ls"
   ]
  },
  {
   "cell_type": "code",
   "execution_count": 1,
   "metadata": {},
   "outputs": [
    {
     "name": "stdout",
     "output_type": "stream",
     "text": [
      "Current path is:  /Volumes/HDD-Data/PycharmProjects/AdvancedPython/05-Context-Managers\n",
      "Inside contextmanager path is:  /Volumes/HDD-Data/PycharmProjects/AdvancedPython/05-Context-Managers/test\n",
      "Current path is:  /Volumes/HDD-Data/PycharmProjects/AdvancedPython/05-Context-Managers\n"
     ]
    }
   ],
   "source": [
    "import sys\n",
    "import os\n",
    "\n",
    "class MyContext():\n",
    "    def __init__(self, path):\n",
    "        self.path = path\n",
    "    def __enter__(self):\n",
    "        #os.makedirs(self.path)\n",
    "        self._curdir = os.path.abspath(os.curdir)\n",
    "        os.chdir(os.path.join(self._curdir, self.path))\n",
    "    # signature: exception type and value, and traceback\n",
    "    def __exit__(self, ex_t, ex_v, tb):\n",
    "        os.chdir(self._curdir)\n",
    "\n",
    "print(\"Current path is: \",os.path.abspath(os.curdir))\n",
    "with MyContext('test') as ctx:\n",
    "    print(\"Inside contextmanager path is: \",os.path.abspath(os.curdir))\n",
    "print(\"Current path is: \",os.path.abspath(os.curdir))"
   ]
  },
  {
   "cell_type": "markdown",
   "metadata": {},
   "source": [
    "### Exercice 5.5.4"
   ]
  },
  {
   "cell_type": "code",
   "execution_count": 8,
   "metadata": {},
   "outputs": [
    {
     "name": "stdout",
     "output_type": "stream",
     "text": [
      "Current path is:  /Volumes/HDD-Data/PycharmProjects/AdvancedPython/05-Context-Managers\n",
      "Inside contextmanager path is:  /Volumes/HDD-Data/PycharmProjects/AdvancedPython/05-Context-Managers/test\n",
      "Current path is:  /Volumes/HDD-Data/PycharmProjects/AdvancedPython/05-Context-Managers\n"
     ]
    }
   ],
   "source": [
    "import sys\n",
    "import os\n",
    "import contextlib\n",
    "\n",
    "@contextlib.contextmanager\n",
    "def mycontext(path):\n",
    "    _path = path\n",
    "    try:\n",
    "        _curdir = os.path.abspath(os.curdir)\n",
    "        os.chdir(os.path.join(_curdir, _path))\n",
    "        yield\n",
    "    finally:\n",
    "        os.chdir(_curdir)\n",
    "\n",
    "print(\"Current path is: \",os.path.abspath(os.curdir))\n",
    "with mycontext('test') as ctx:\n",
    "    print(\"Inside contextmanager path is: \",os.path.abspath(os.curdir))\n",
    "print(\"Current path is: \",os.path.abspath(os.curdir))"
   ]
  },
  {
   "cell_type": "markdown",
   "metadata": {},
   "source": [
    "### Exercice 5.5.5"
   ]
  },
  {
   "cell_type": "code",
   "execution_count": null,
   "metadata": {},
   "outputs": [],
   "source": []
  }
 ],
 "metadata": {
  "kernelspec": {
   "display_name": "Python 3",
   "language": "python",
   "name": "python3"
  },
  "language_info": {
   "codemirror_mode": {
    "name": "ipython",
    "version": 3
   },
   "file_extension": ".py",
   "mimetype": "text/x-python",
   "name": "python",
   "nbconvert_exporter": "python",
   "pygments_lexer": "ipython3",
   "version": "3.7.1"
  }
 },
 "nbformat": 4,
 "nbformat_minor": 2
}
